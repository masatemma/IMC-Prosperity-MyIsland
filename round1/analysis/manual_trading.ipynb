{
 "cells": [
  {
   "cell_type": "code",
   "execution_count": 1,
   "metadata": {},
   "outputs": [],
   "source": [
    "import re\n",
    "import json\n",
    "import pandas as pd\n",
    "import io\n",
    "import csv\n",
    "from collections import defaultdict\n",
    "import matplotlib.pyplot as plt"
   ]
  },
  {
   "cell_type": "code",
   "execution_count": 3,
   "metadata": {},
   "outputs": [
    {
     "data": {
      "text/plain": [
       "(933, 966, 33.33)"
      ]
     },
     "execution_count": 3,
     "metadata": {},
     "output_type": "execute_result"
    }
   ],
   "source": [
    "import numpy as np\n",
    "\n",
    "# Function to calculate total profit for all combinations of L and H\n",
    "def calculate_all_combinations():\n",
    "    # Define the range of bids\n",
    "    bids = np.arange(900, 1001, 1)  # From 900 to 1000, inclusive, in steps of 1\n",
    "    \n",
    "    # Initialize a matrix to store profits for each combination of L and H\n",
    "    profit_matrix = np.zeros((len(bids), len(bids)))\n",
    "    \n",
    "    for i, L in enumerate(bids):\n",
    "        for j, H in enumerate(bids):\n",
    "            if L < H:  # Ensure L is less than H\n",
    "                volume_L = (L - 900) / 100\n",
    "                volume_H = (H - 900) / 100 - volume_L  # Adjusted for overlap\n",
    "                profit_L = (1000 - L) * volume_L\n",
    "                profit_H = (1000 - H) * volume_H\n",
    "                total_profit = profit_L + profit_H\n",
    "                profit_matrix[i, j] = total_profit\n",
    "                \n",
    "    return bids, profit_matrix\n",
    "\n",
    "bids, profit_matrix = calculate_all_combinations()\n",
    "\n",
    "# Find the combination of L and H that maximizes the profit\n",
    "max_profit_index = np.unravel_index(np.argmax(profit_matrix, axis=None), profit_matrix.shape)\n",
    "optimal_L = bids[max_profit_index[0]]\n",
    "optimal_H = bids[max_profit_index[1]]\n",
    "max_profit = profit_matrix[max_profit_index]\n",
    "\n",
    "optimal_L, optimal_H, max_profit"
   ]
  }
 ],
 "metadata": {
  "kernelspec": {
   "display_name": "Python 3",
   "language": "python",
   "name": "python3"
  },
  "language_info": {
   "codemirror_mode": {
    "name": "ipython",
    "version": 3
   },
   "file_extension": ".py",
   "mimetype": "text/x-python",
   "name": "python",
   "nbconvert_exporter": "python",
   "pygments_lexer": "ipython3",
   "version": "3.12.2"
  }
 },
 "nbformat": 4,
 "nbformat_minor": 2
}
