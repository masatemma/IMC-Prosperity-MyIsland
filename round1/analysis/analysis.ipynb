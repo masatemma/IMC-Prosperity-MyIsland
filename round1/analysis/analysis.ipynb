{
 "cells": [
  {
   "cell_type": "code",
   "execution_count": 1,
   "metadata": {},
   "outputs": [],
   "source": [
    "import re\n",
    "import json\n",
    "import pandas as pd\n",
    "import io\n",
    "import csv\n",
    "from collections import defaultdict\n",
    "import matplotlib.pyplot as plt"
   ]
  },
  {
   "cell_type": "code",
   "execution_count": 22,
   "metadata": {},
   "outputs": [
    {
     "name": "stdout",
     "output_type": "stream",
     "text": [
      "highest bid: 10002.0 lowest bid: 9995.0\n",
      "highest ask: 10005.0 lowest ask: 9998.0\n"
     ]
    }
   ],
   "source": [
    "# Adjusting the CSV loading process to account for the semicolon separator\n",
    "#file_path = \"../past_data/prices_round_1_day_-2.csv\"\n",
    "file_path = \"/Users/MasaTemma/Desktop/IMC-Prosperity-MyIsland/tutorial_round/results/trader_test_10.1.csv\"\n",
    "data = pd.read_csv(file_path, sep=';')\n",
    "\n",
    "# Filtering for 'STARFRUIT'\n",
    "starfruit_data = data[data['product'] == 'AMETHYSTS']\n",
    "\n",
    "# Finding the highest and lowest bid prices for 'STARFRUIT'\n",
    "# We'll consider all bid_price columns for the case where the highest or lowest might not be in bid_price_1\n",
    "bid_price_columns = [col for col in starfruit_data.columns if 'bid_price_' in col]\n",
    "ask_price_columns = [col for col in starfruit_data.columns if 'ask_price_' in col]\n",
    "highest_bid_price = starfruit_data[bid_price_columns].max().max()\n",
    "lowest_bid_price = starfruit_data[bid_price_columns].min().min()\n",
    "highest_ask_price = starfruit_data[ask_price_columns].max().max()\n",
    "lowest_ask_price = starfruit_data[ask_price_columns].min().min()\n",
    "\n",
    "print(f\"highest bid: {highest_bid_price} lowest bid: {lowest_bid_price}\")\n",
    "print(f\"highest ask: {highest_ask_price} lowest ask: {lowest_ask_price}\")"
   ]
  },
  {
   "cell_type": "code",
   "execution_count": 13,
   "metadata": {},
   "outputs": [
    {
     "name": "stdout",
     "output_type": "stream",
     "text": [
      "highest bid: 10002.0 lowest bid: 9995.0\n",
      "highest ask: 10005.0 lowest ask: 9998.0\n"
     ]
    }
   ],
   "source": [
    "# Adjusting the CSV loading process to account for the semicolon separator\n",
    "file_path = \"../past_data/prices_round_1_day_-1.csv\"\n",
    "data = pd.read_csv(file_path, sep=';')\n",
    "\n",
    "# Filtering for 'STARFRUIT'\n",
    "starfruit_data = data[data['product'] == 'AMETHYSTS']\n",
    "\n",
    "# Finding the highest and lowest bid prices for 'STARFRUIT'\n",
    "# We'll consider all bid_price columns for the case where the highest or lowest might not be in bid_price_1\n",
    "bid_price_columns = [col for col in starfruit_data.columns if 'bid_price_' in col]\n",
    "ask_price_columns = [col for col in starfruit_data.columns if 'ask_price_' in col]\n",
    "highest_bid_price = starfruit_data[bid_price_columns].max().max()\n",
    "lowest_bid_price = starfruit_data[bid_price_columns].min().min()\n",
    "highest_ask_price = starfruit_data[ask_price_columns].max().max()\n",
    "lowest_ask_price = starfruit_data[ask_price_columns].min().min()\n",
    "\n",
    "print(f\"highest bid: {highest_bid_price} lowest bid: {lowest_bid_price}\")\n",
    "print(f\"highest ask: {highest_ask_price} lowest ask: {lowest_ask_price}\")"
   ]
  },
  {
   "cell_type": "code",
   "execution_count": 14,
   "metadata": {},
   "outputs": [
    {
     "name": "stdout",
     "output_type": "stream",
     "text": [
      "highest bid: 10002.0 lowest bid: 9995.0\n",
      "highest ask: 10005.0 lowest ask: 9998.0\n"
     ]
    }
   ],
   "source": [
    "# Adjusting the CSV loading process to account for the semicolon separator\n",
    "file_path = \"../past_data/prices_round_1_day_0.csv\"\n",
    "data = pd.read_csv(file_path, sep=';')\n",
    "\n",
    "# Filtering for 'STARFRUIT'\n",
    "starfruit_data = data[data['product'] == 'AMETHYSTS']\n",
    "\n",
    "# Finding the highest and lowest bid prices for 'STARFRUIT'\n",
    "# We'll consider all bid_price columns for the case where the highest or lowest might not be in bid_price_1\n",
    "bid_price_columns = [col for col in starfruit_data.columns if 'bid_price_' in col]\n",
    "ask_price_columns = [col for col in starfruit_data.columns if 'ask_price_' in col]\n",
    "highest_bid_price = starfruit_data[bid_price_columns].max().max()\n",
    "lowest_bid_price = starfruit_data[bid_price_columns].min().min()\n",
    "highest_ask_price = starfruit_data[ask_price_columns].max().max()\n",
    "lowest_ask_price = starfruit_data[ask_price_columns].min().min()\n",
    "\n",
    "print(f\"highest bid: {highest_bid_price} lowest bid: {lowest_bid_price}\")\n",
    "print(f\"highest ask: {highest_ask_price} lowest ask: {lowest_ask_price}\")"
   ]
  },
  {
   "cell_type": "code",
   "execution_count": null,
   "metadata": {},
   "outputs": [],
   "source": []
  }
 ],
 "metadata": {
  "kernelspec": {
   "display_name": "Python 3",
   "language": "python",
   "name": "python3"
  },
  "language_info": {
   "codemirror_mode": {
    "name": "ipython",
    "version": 3
   },
   "file_extension": ".py",
   "mimetype": "text/x-python",
   "name": "python",
   "nbconvert_exporter": "python",
   "pygments_lexer": "ipython3",
   "version": "3.12.2"
  }
 },
 "nbformat": 4,
 "nbformat_minor": 2
}
