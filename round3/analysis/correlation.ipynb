{
 "cells": [
  {
   "cell_type": "code",
   "execution_count": 1,
   "metadata": {},
   "outputs": [],
   "source": [
    "import re\n",
    "import json\n",
    "import pandas as pd\n",
    "import io\n",
    "import csv\n",
    "from collections import defaultdict\n",
    "import matplotlib.pyplot as plt"
   ]
  },
  {
   "cell_type": "code",
   "execution_count": 18,
   "metadata": {},
   "outputs": [],
   "source": [
    "# Load the data from the uploaded CSV file\n",
    "file_path = '../past_data/combined_mid_prices.csv'\n",
    "data = pd.read_csv(file_path)\n",
    "# Calculate correlation matrix\n",
    "correlation_matrix = data.corr()"
   ]
  },
  {
   "cell_type": "code",
   "execution_count": 19,
   "metadata": {},
   "outputs": [
    {
     "name": "stdout",
     "output_type": "stream",
     "text": [
      "Chocolate_Mid_Price       0.119245\n",
      "Strawberries_Mid_Price    0.312178\n",
      "Roses_Mid_Price           0.433837\n",
      "Gift_Basket_Mid_Price     1.000000\n",
      "Name: Gift_Basket_Mid_Price, dtype: float64\n",
      "\n",
      "Chocolate_Mid_Price      -0.159076\n",
      "Strawberries_Mid_Price   -0.496516\n",
      "Roses_Mid_Price           1.000000\n",
      "Gift_Basket_Mid_Price     0.433837\n",
      "Name: Roses_Mid_Price, dtype: float64\n",
      "\n",
      "Chocolate_Mid_Price       1.000000\n",
      "Strawberries_Mid_Price   -0.235760\n",
      "Roses_Mid_Price          -0.159076\n",
      "Gift_Basket_Mid_Price     0.119245\n",
      "Name: Chocolate_Mid_Price, dtype: float64\n",
      "\n",
      "Chocolate_Mid_Price      -0.235760\n",
      "Strawberries_Mid_Price    1.000000\n",
      "Roses_Mid_Price          -0.496516\n",
      "Gift_Basket_Mid_Price     0.312178\n",
      "Name: Strawberries_Mid_Price, dtype: float64\n",
      "\n"
     ]
    }
   ],
   "source": [
    "# Focus on the correlations of 'Gift_Basket_Mid_Price' with other products\n",
    "print(correlation_matrix['Gift_Basket_Mid_Price'])\n",
    "print()\n",
    "print(correlation_matrix['Roses_Mid_Price'])\n",
    "print()\n",
    "print(correlation_matrix['Chocolate_Mid_Price'])\n",
    "print()\n",
    "print(correlation_matrix['Strawberries_Mid_Price'])\n",
    "print()"
   ]
  },
  {
   "cell_type": "code",
   "execution_count": 9,
   "metadata": {},
   "outputs": [
    {
     "data": {
      "text/plain": [
       "Chocolate_Mid_Price       0.788094\n",
       "Strawberries_Mid_Price    0.433015\n",
       "Roses_Mid_Price           1.000000\n",
       "Gift_Basket_Mid_Price     0.773739\n",
       "Name: Roses_Mid_Price, dtype: float64"
      ]
     },
     "execution_count": 9,
     "metadata": {},
     "output_type": "execute_result"
    }
   ],
   "source": [
    "# Calculate correlation matrix\n",
    "correlation_matrix = data.corr()\n",
    "\n",
    "# Focus on the correlations of 'Gift_Basket_Mid_Price' with other products\n"
   ]
  },
  {
   "cell_type": "code",
   "execution_count": 10,
   "metadata": {},
   "outputs": [
    {
     "data": {
      "text/plain": [
       "Chocolate_Mid_Price       1.000000\n",
       "Strawberries_Mid_Price    0.688411\n",
       "Roses_Mid_Price           0.788094\n",
       "Gift_Basket_Mid_Price     0.941853\n",
       "Name: Chocolate_Mid_Price, dtype: float64"
      ]
     },
     "execution_count": 10,
     "metadata": {},
     "output_type": "execute_result"
    }
   ],
   "source": [
    "correlation_matrix['Chocolate_Mid_Price']"
   ]
  }
 ],
 "metadata": {
  "kernelspec": {
   "display_name": "base",
   "language": "python",
   "name": "python3"
  },
  "language_info": {
   "codemirror_mode": {
    "name": "ipython",
    "version": 3
   },
   "file_extension": ".py",
   "mimetype": "text/x-python",
   "name": "python",
   "nbconvert_exporter": "python",
   "pygments_lexer": "ipython3",
   "version": "3.11.7"
  }
 },
 "nbformat": 4,
 "nbformat_minor": 2
}
