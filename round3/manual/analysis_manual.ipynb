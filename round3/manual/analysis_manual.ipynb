{
 "cells": [
  {
   "cell_type": "code",
   "execution_count": 18,
   "metadata": {},
   "outputs": [],
   "source": [
    "import re\n",
    "import json\n",
    "import pandas as pd\n",
    "from sklearn.linear_model import LinearRegression\n",
    "import numpy as np\n",
    "import io\n",
    "import csv\n",
    "from collections import defaultdict\n",
    "import matplotlib.pyplot as plt"
   ]
  },
  {
   "cell_type": "code",
   "execution_count": 27,
   "metadata": {},
   "outputs": [],
   "source": [
    "# Data extracted from the image provided for the treasure map\n",
    "# Each tuple represents a tile with its treasure multiplier and number of hunters (multiplier, hunters)\n",
    "treasure_spots = {\n",
    "    'G26': (24, 2), 'G27': (70, 4), 'G28': (41, 3), 'G29': (21, 2), 'G30': (60, 4),\n",
    "    'H26': (47, 3), 'H27': (82, 5), 'H28': (87, 5), 'H29': (80, 5), 'H30': (35, 3),\n",
    "    'I26': (73, 4), 'I27': (89, 5), 'I28': (100, 8), 'I29': (90, 7), 'I30': (17, 2),\n",
    "    'J26': (77, 5), 'J27': (83, 5), 'J28': (85, 5), 'J29': (79, 5), 'J30': (55, 4),\n",
    "    'K26': (12, 2), 'K27': (27, 3), 'K28': (52, 4), 'K29': (15, 2), 'K30': (30, 3)\n",
    "}\n",
    "\n",
    "# Base treasure for all spots\n"
   ]
  },
  {
   "cell_type": "code",
   "execution_count": 33,
   "metadata": {},
   "outputs": [
    {
     "name": "stdout",
     "output_type": "stream",
     "text": [
      "G26: 12.00 G27: 17.50 G28: 13.67 G29: 10.50 G30: 15.00 \n",
      "H26: 15.67 H27: 16.40 H28: 17.40 H29: 16.00 H30: 11.67 \n",
      "I26: 18.25 I27: 17.80 I28: 12.50 I29: 12.86 I30: 8.50 \n",
      "J26: 15.40 J27: 16.60 J28: 17.00 J29: 15.80 J30: 13.75 \n",
      "K26: 6.00 K27: 9.00 K28: 13.00 K29: 7.50 K30: 10.00 \n"
     ]
    }
   ],
   "source": [
    "after_split = {}\n",
    "for spot, numbers in treasure_spots.items():\n",
    "    profit = numbers[0] / numbers[1]\n",
    "    after_split[spot] = profit\n",
    "\n",
    "# Define elements per line\n",
    "elements_per_line = 5\n",
    "\n",
    "# Iterate over the dictionary items and print them with formatting\n",
    "for i, (key, value) in enumerate(after_split.items(), 1):\n",
    "    print(f'{key}: {value:.2f}', end=\" \")\n",
    "    if i % elements_per_line == 0:\n",
    "        print()\n"
   ]
  },
  {
   "cell_type": "code",
   "execution_count": 39,
   "metadata": {},
   "outputs": [
    {
     "name": "stdout",
     "output_type": "stream",
     "text": [
      "G26: 3.53% G27: 5.15% G28: 4.02% G29: 3.09% G30: 4.41% \n",
      "H26: 4.61% H27: 4.83% H28: 5.12% H29: 4.71% H30: 3.43% \n",
      "I26: 5.37% I27: 5.24% I28: 3.68% I29: 3.78% I30: 2.50% \n",
      "J26: 4.53% J27: 4.89% J28: 5.00% J29: 4.65% J30: 4.05% \n",
      "K26: 1.77% K27: 2.65% K28: 3.83% K29: 2.21% K30: 2.94% \n"
     ]
    }
   ],
   "source": [
    " # Calculate the total value of all tiles\n",
    "total_value = sum(after_split.values())\n",
    "\n",
    "\n",
    "exp_percents = {}\n",
    "# Allocate 100 cookies proportionally to each tile\n",
    "for key, value in after_split.items():\n",
    "    exp_percent = 100 * (value / total_value)\n",
    "    exp_percents[key] = exp_percent\n",
    "\n",
    "exp_percents\n",
    "\n",
    "\n",
    "for i, (key, value) in enumerate(exp_percents.items(), 1):\n",
    "    print(f'{key}: {value:.2f}%', end=\" \")\n",
    "    if i % elements_per_line == 0:\n",
    "        print()"
   ]
  },
  {
   "cell_type": "code",
   "execution_count": 78,
   "metadata": {},
   "outputs": [
    {
     "name": "stdout",
     "output_type": "stream",
     "text": [
      "G26: 6.94% G27: 10.05% G28: 7.89% G29: 6.09% G30: 8.64% \n",
      "H26: 9.02% H27: 9.43% H28: 9.99% H29: 9.21% H30: 6.75% \n",
      "I26: 10.47% I27: 10.21% I28: 7.23% I29: 7.43% I30: 4.94% \n",
      "J26: 8.87% J27: 9.54% J28: 9.77% J29: 9.09% J30: 7.94% \n",
      "K26: 3.50% K27: 5.23% K28: 7.51% K29: 4.37% K30: 5.80% \n"
     ]
    }
   ],
   "source": [
    "exp_percents_2 = {}\n",
    "for key, value in exp_percents.items():\n",
    "    prob = value / 100\n",
    "    conditional_prob = prob / (1 - (prob / 24))\n",
    "    new_correct_prob = prob + (1 - prob) * conditional_prob\n",
    "    exp_percents_2[key] = new_correct_prob * 100\n",
    "    \n",
    "for i, (key, value) in enumerate(exp_percents_2.items(), 1):\n",
    "    print(f'{key}: {value:.2f}%', end=\" \")\n",
    "    if i % elements_per_line == 0:\n",
    "        print()"
   ]
  },
  {
   "cell_type": "code",
   "execution_count": 79,
   "metadata": {},
   "outputs": [
    {
     "name": "stdout",
     "output_type": "stream",
     "text": [
      "G26: 3.54% G27: 5.13% G28: 4.03% G29: 3.11% G30: 4.41% \n",
      "H26: 4.60% H27: 4.81% H28: 5.10% H29: 4.70% H30: 3.45% \n",
      "I26: 5.34% I27: 5.21% I28: 3.69% I29: 3.79% I30: 2.52% \n",
      "J26: 4.53% J27: 4.87% J28: 4.99% J29: 4.64% J30: 4.05% \n",
      "K26: 1.79% K27: 2.67% K28: 3.83% K29: 2.23% K30: 2.96% \n"
     ]
    }
   ],
   "source": [
    "# Calculate the total sum of percentages\n",
    "total_sum = sum(exp_percents_2.values())\n",
    "\n",
    "# Calculate the normalization factor\n",
    "normalization_factor = total_sum / 100\n",
    "\n",
    "# Create a new dictionary with adjusted percentages\n",
    "adjusted_percentages_dict = {key: round(value / normalization_factor, 2) for key, value in exp_percents_2.items()}\n",
    "\n",
    "for i, (key, value) in enumerate(adjusted_percentages_dict.items(), 1):\n",
    "    print(f'{key}: {value:.2f}%', end=\" \")\n",
    "    if i % elements_per_line == 0:\n",
    "        print()"
   ]
  },
  {
   "cell_type": "code",
   "execution_count": 83,
   "metadata": {},
   "outputs": [
    {
     "name": "stdout",
     "output_type": "stream",
     "text": [
      "G26: 2.68 G27: 4.98 G28: 3.77 G29: 2.60 G30: 4.75 \n",
      "H26: 3.91 H27: 5.68 H28: 5.80 H29: 5.63 H30: 3.59 \n",
      "I26: 5.05 I27: 5.85 I28: 6.57 I29: 6.24 I30: 2.45 \n",
      "J26: 5.55 J27: 5.71 J28: 5.76 J29: 5.61 J30: 4.61 \n",
      "K26: 2.18 K27: 3.28 K28: 4.52 K29: 2.36 K30: 3.41 \n"
     ]
    }
   ],
   "source": [
    "after_split_exp = {}\n",
    "for spot, numbers in treasure_spots.items():\n",
    "    profit = numbers[0] / (numbers[1] + exp_percents_2[spot])\n",
    "    after_split_exp[spot] = profit\n",
    "\n",
    "for i, (key, value) in enumerate(after_split_exp.items(), 1):\n",
    "    print(f'{key}: {value:.2f}', end=\" \")\n",
    "    if i % elements_per_line == 0:\n",
    "        print()"
   ]
  },
  {
   "cell_type": "code",
   "execution_count": 81,
   "metadata": {},
   "outputs": [
    {
     "name": "stdout",
     "output_type": "stream",
     "text": [
      "G26: 20124.90 G27: 37375.37 G28: 28237.85 G29: 19470.31 G30: 35593.67 \n",
      "H26: 29330.72 H27: 42618.91 H28: 43526.92 H29: 42237.03 H30: 26910.68 \n",
      "I26: 37847.78 I27: 43872.74 I28: 49250.47 I29: 46774.38 I30: 18362.42 \n",
      "J26: 41642.52 J27: 42805.71 J28: 43171.40 J29: 42041.82 J30: 34557.02 \n",
      "K26: 16357.61 K27: 24603.36 K28: 33877.70 K29: 17665.97 K30: 25558.20 \n",
      "max: I28 - 49250.473079828305\n"
     ]
    }
   ],
   "source": [
    "profits_split_exp = {}\n",
    "base_treasure = 7500\n",
    "for spot, multiplier in after_split_exp.items():\n",
    "    profits_split_exp[spot] = multiplier * base_treasure\n",
    "    \n",
    "for i, (key, value) in enumerate(profits_split_exp.items(), 1):\n",
    "    print(f'{key}: {value:.2f}', end=\" \")\n",
    "    if i % elements_per_line == 0:\n",
    "        print()\n",
    "\n",
    "max_key = max(profits_split_exp, key=lambda k: profits_split_exp[k])\n",
    "print(f\"max: {max_key} - {profits_split_exp[max_key]}\")"
   ]
  },
  {
   "cell_type": "code",
   "execution_count": 82,
   "metadata": {},
   "outputs": [
    {
     "name": "stdout",
     "output_type": "stream",
     "text": [
      "G26: -4875.10 G27: 12375.37 G28: 3237.85 G29: -5529.69 G30: 10593.67 \n",
      "H26: 4330.72 H27: 17618.91 H28: 18526.92 H29: 17237.03 H30: 1910.68 \n",
      "I26: 12847.78 I27: 18872.74 I28: 24250.47 I29: 21774.38 I30: -6637.58 \n",
      "J26: 16642.52 J27: 17805.71 J28: 18171.40 J29: 17041.82 J30: 9557.02 \n",
      "K26: -8642.39 K27: -396.64 K28: 8877.70 K29: -7334.03 K30: 558.20 \n",
      "('I29', 21774.375289945267)\n"
     ]
    }
   ],
   "source": [
    "second_exp_profit = {}\n",
    "cost = 25000\n",
    "for spot, profit in profits_split_exp.items():\n",
    "    second_exp_profit[spot] = profit - cost\n",
    "    \n",
    "for i, (key, value) in enumerate(second_exp_profit.items(), 1):\n",
    "    print(f'{key}: {value:.2f}', end=\" \")\n",
    "    if i % elements_per_line == 0:\n",
    "        print()\n",
    "\n",
    "sorted_second_exp = sorted(second_exp_profit.items(), key=lambda x: x[1])\n",
    "print(sorted_second_exp[-2])\n"
   ]
  },
  {
   "cell_type": "code",
   "execution_count": 56,
   "metadata": {},
   "outputs": [
    {
     "name": "stdout",
     "output_type": "stream",
     "text": [
      "G26: -42461.65 G27: -17627.58 G28: -31212.06 G29: -44059.67 G30: -21523.54 \n",
      "H26: -28686.29 H27: -12417.17 H28: -10532.03 H29: -13203.23 H30: -34200.01 \n",
      "I26: -16578.09 I27: -9808.32 I28: -10782.71 I29: -12408.52 I30: -46677.91 \n",
      "J26: -14418.73 J27: -12031.17 J28: -11272.78 J29: -13603.46 J30: -23738.71 \n",
      "K26: -51101.76 K27: -39152.64 K28: -25167.78 K29: -48261.77 K30: -37142.11 \n"
     ]
    }
   ],
   "source": [
    "third_exp_profit = {}\n",
    "cost = 75000\n",
    "for spot, profit in profits_split_exp.items():\n",
    "    third_exp_profit[spot] = profit - cost\n",
    "    \n",
    "for i, (key, value) in enumerate(third_exp_profit.items(), 1):\n",
    "    print(f'{key}: {value:.2f}', end=\" \")\n",
    "    if i % elements_per_line == 0:\n",
    "        print()"
   ]
  }
 ],
 "metadata": {
  "kernelspec": {
   "display_name": "base",
   "language": "python",
   "name": "python3"
  },
  "language_info": {
   "codemirror_mode": {
    "name": "ipython",
    "version": 3
   },
   "file_extension": ".py",
   "mimetype": "text/x-python",
   "name": "python",
   "nbconvert_exporter": "python",
   "pygments_lexer": "ipython3",
   "version": "3.11.7"
  }
 },
 "nbformat": 4,
 "nbformat_minor": 2
}
