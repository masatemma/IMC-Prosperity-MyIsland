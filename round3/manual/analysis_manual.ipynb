{
 "cells": [
  {
   "cell_type": "code",
   "execution_count": null,
   "metadata": {},
   "outputs": [],
   "source": []
  },
  {
   "cell_type": "code",
   "execution_count": null,
   "metadata": {},
   "outputs": [],
   "source": [
    "# Data extracted from the image provided for the treasure map\n",
    "# Each tuple represents a tile with its treasure multiplier and number of hunters (multiplier, hunters)\n",
    "tiles = [\n",
    "    (24, 2), (70, 4), (41, 3), (21, 2), (60, 4),\n",
    "    (47, 3), (82, 5), (87, 5), (80, 5), (35, 3),\n",
    "    (73, 4), (89, 5), (100, 8), (90, 7), (17, 2),\n",
    "    (77, 5), (83, 5), (85, 5), (79, 5), (55, 4),\n",
    "    (12, 2), (27, 3), (52, 4), (15, 2), (30, 3)\n",
    "]\n",
    "\n",
    "# Base treasure for all spots\n",
    "base_treasure = 7500"
   ]
  }
 ],
 "metadata": {
  "language_info": {
   "name": "python"
  }
 },
 "nbformat": 4,
 "nbformat_minor": 2
}
