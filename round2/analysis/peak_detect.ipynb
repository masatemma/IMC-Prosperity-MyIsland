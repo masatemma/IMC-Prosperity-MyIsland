{
 "cells": [
  {
   "cell_type": "code",
   "execution_count": 40,
   "metadata": {},
   "outputs": [],
   "source": [
    "import pandas as pd\n",
    "\n",
    "\n"
   ]
  },
  {
   "cell_type": "code",
   "execution_count": 41,
   "metadata": {},
   "outputs": [
    {
     "name": "stdout",
     "output_type": "stream",
     "text": [
      "[118500.0, 550900.0, 844700.0]\n"
     ]
    }
   ],
   "source": [
    "# Load the dataset\n",
    "df = pd.read_csv('../past_data/prices_round_2_day_0.csv', delimiter=';')\n",
    "\n",
    "from collections import deque\n",
    "\n",
    "# Initialize a deque to keep track of the last 3 humidity values\n",
    "recent_humidities = deque(maxlen=3)\n",
    "peak_timestamps = []\n",
    "\n",
    "# Iterate over the humidity column\n",
    "for index, row in df.iterrows():\n",
    "    humidity = row['HUMIDITY']\n",
    "    # Append the current humidity to the recent values\n",
    "    recent_humidities.append(humidity)\n",
    "    # Check if the deque is full and if the middle value is greater than the two adjacent values\n",
    "    if len(recent_humidities) == 3 and recent_humidities[1] > recent_humidities[0] and recent_humidities[1] > recent_humidities[2]:\n",
    "        peak_timestamps.append(row['timestamp'])  # Replace 'timestamp' with the actual column name for timestamps\n",
    "\n",
    "# Print the detected peak timestamps\n",
    "print(peak_timestamps)\n"
   ]
  },
  {
   "cell_type": "code",
   "execution_count": 42,
   "metadata": {},
   "outputs": [
    {
     "data": {
      "text/plain": [
       "1856    185600\n",
       "5355    535500\n",
       "9057    905700\n",
       "Name: timestamp, dtype: int64"
      ]
     },
     "execution_count": 42,
     "metadata": {},
     "output_type": "execute_result"
    }
   ],
   "source": [
    "import pandas as pd\n",
    "\n",
    "# Load the dataset\n",
    "df = pd.read_csv('../past_data/prices_round_2_day_-1.csv', delimiter=';')\n",
    "\n",
    "# Define a custom function to calculate the rate of change\n",
    "def rate_of_change(humidity_series):\n",
    "    rate_of_change_values = [0]  # Starting with 0 as there is no previous value for the first entry\n",
    "    for i in range(1, len(humidity_series)):\n",
    "        change = humidity_series[i] - humidity_series[i - 1]\n",
    "        rate_of_change_values.append(change)\n",
    "    return rate_of_change_values\n",
    "\n",
    "# Apply the custom function to calculate the rate of change for the humidity\n",
    "df['Humidity_Rate_of_Change'] = rate_of_change(df['HUMIDITY'])\n",
    "\n",
    "# Identify peaks using the rate of change\n",
    "# A peak is where the rate of change goes from positive to negative\n",
    "peaks = df[(df['Humidity_Rate_of_Change'].shift(1) > 0) & (df['Humidity_Rate_of_Change'] < 0)]\n",
    "\n",
    "# Get the timestamp of peaks\n",
    "peak_timestamps = peaks['timestamp']\n",
    "\n",
    "# Display the timestamps of the detected peaks\n",
    "peak_timestamps\n"
   ]
  },
  {
   "cell_type": "code",
   "execution_count": 65,
   "metadata": {},
   "outputs": [
    {
     "name": "stdout",
     "output_type": "stream",
     "text": [
      "0.004099999999993997\n"
     ]
    },
    {
     "data": {
      "text/plain": [
       "0    185600\n",
       "1    535500\n",
       "2    905700\n",
       "Name: Peak_Timestamps, dtype: int64"
      ]
     },
     "execution_count": 65,
     "metadata": {},
     "output_type": "execute_result"
    }
   ],
   "source": [
    "import pandas as pd\n",
    "\n",
    "# Load the dataset\n",
    "df = pd.read_csv('../past_data/prices_round_2_day_-1.csv', delimiter=';')\n",
    "\n",
    "# Custom function to calculate the rate of change, taking zero rate of change into account as potential peaks\n",
    "def rate_of_change(humidity_series):\n",
    "    rate_of_change_values = [None] * len(humidity_series)  # Initialize with None\n",
    "    for i in range(1, len(humidity_series)):\n",
    "        rate_of_change_values[i] = humidity_series[i] - humidity_series[i - 1]\n",
    "    return rate_of_change_values\n",
    "\n",
    "# Apply the custom function to calculate the rate of change for the humidity\n",
    "df['Humidity_Rate_of_Change'] = rate_of_change(df['HUMIDITY'])\n",
    "\n",
    "# Initialize a list to hold the timestamps of detected peaks\n",
    "peak_timestamps = []\n",
    "\n",
    "# Iterate over the rate of change values to detect peaks\n",
    "for i in range(1, len(df) - 1):\n",
    "    if (df['Humidity_Rate_of_Change'][i-1] > 0 and df['Humidity_Rate_of_Change'][i] <= 0 and\n",
    "        df['Humidity_Rate_of_Change'][i+1] < 0):\n",
    "        # This condition checks for the rate of change being positive,\n",
    "        # then zero or negative (indicating a peak or plateau),\n",
    "        # followed by a negative rate of change (indicating a downward trend)\n",
    "        peak_timestamps.append(df['timestamp'][i])\n",
    "\n",
    "# Convert the list to a pandas Series for easier handling\n",
    "peak_timestamps = pd.Series(peak_timestamps, name='Peak_Timestamps')\n",
    "\n",
    "# Display the timestamps of the detected peaks\n",
    "peak_timestamps\n"
   ]
  },
  {
   "cell_type": "code",
   "execution_count": 63,
   "metadata": {},
   "outputs": [
    {
     "data": {
      "text/plain": [
       "Series([], Name: Peak_Timestamps, dtype: object)"
      ]
     },
     "execution_count": 63,
     "metadata": {},
     "output_type": "execute_result"
    }
   ],
   "source": [
    "import pandas as pd\n",
    "\n",
    "# Load the dataset\n",
    "df = pd.read_csv('../past_data/prices_round_2_day_-1.csv', delimiter=';')\n",
    "\n",
    "# Custom function to calculate the rate of change, taking zero rate of change into account as potential peaks\n",
    "def rate_of_change(humidity_series):\n",
    "    rate_of_change_values = [None] * len(humidity_series)  # Initialize with None\n",
    "    for i in range(1, len(humidity_series)):\n",
    "        rate_of_change_values[i] = humidity_series[i] - humidity_series[i - 1]\n",
    "    return rate_of_change_values\n",
    "\n",
    "# Apply the custom function to calculate the rate of change for the humidity\n",
    "df['Humidity_Rate_of_Change'] = rate_of_change(df['HUMIDITY'])\n",
    "\n",
    "# Initialize a list to hold the timestamps of detected peaks\n",
    "peak_timestamps = []\n",
    "\n",
    "# Iterate over the rate of change values to detect peaks\n",
    "for i in range(0, len(df)):\n",
    "    # if (df['Humidity_Rate_of_Change'][i-1] > 0 and df['Humidity_Rate_of_Change'][i] <= 0 and\n",
    "    #     df['Humidity_Rate_of_Change'][i+1] < 0):\n",
    "    if df['Humidity_Rate_of_Change'][i] == 0:\n",
    "        # This condition checks for the rate of change being positive,\n",
    "        # then zero or negative (indicating a peak or plateau),\n",
    "        # followed by a negative rate of change (indicating a downward trend)\n",
    "        peak_timestamps.append(df['timestamp'][i])\n",
    "\n",
    "# Convert the list to a pandas Series for easier handling\n",
    "peak_timestamps = pd.Series(peak_timestamps, name='Peak_Timestamps')\n",
    "\n",
    "# Display the timestamps of the detected peaks\n",
    "peak_timestamps\n"
   ]
  },
  {
   "cell_type": "code",
   "execution_count": 61,
   "metadata": {},
   "outputs": [
    {
     "data": {
      "text/plain": [
       "0    446600\n",
       "1    694200\n",
       "Name: Peak_Timestamps, dtype: int64"
      ]
     },
     "execution_count": 61,
     "metadata": {},
     "output_type": "execute_result"
    }
   ],
   "source": [
    "import pandas as pd\n",
    "\n",
    "# Load the dataset\n",
    "df = pd.read_csv('../past_data/prices_round_2_day_-1.csv', delimiter=';')\n",
    "\n",
    "# Custom function to calculate the rate of change, taking zero rate of change into account as potential peaks\n",
    "def rate_of_change(humidity_series):\n",
    "    rate_of_change_values = [None] * len(humidity_series)  # Initialize with None\n",
    "    for i in range(1, len(humidity_series)):\n",
    "        rate_of_change_values[i] = humidity_series[i] - humidity_series[i - 1]\n",
    "    return rate_of_change_values\n",
    "\n",
    "# Apply the custom function to calculate the rate of change for the humidity\n",
    "df['Humidity_Rate_of_Change'] = rate_of_change(df['HUMIDITY'])\n",
    "\n",
    "# Initialize a list to hold the timestamps of detected peaks\n",
    "peak_timestamps = []\n",
    "\n",
    "# Iterate over the rate of change values to detect peaks\n",
    "for i in range(1, len(df) - 1):\n",
    "    if (df['Humidity_Rate_of_Change'][i-1] < 0 and df['Humidity_Rate_of_Change'][i] >= 0 and\n",
    "        df['Humidity_Rate_of_Change'][i+1] > 0):\n",
    "        # This condition checks for the rate of change being positive,\n",
    "        # then zero or negative (indicating a peak or plateau),\n",
    "        # followed by a negative rate of change (indicating a downward trend)\n",
    "        peak_timestamps.append(df['timestamp'][i])\n",
    "\n",
    "# Convert the list to a pandas Series for easier handling\n",
    "peak_timestamps = pd.Series(peak_timestamps, name='Peak_Timestamps')\n",
    "\n",
    "# Display the timestamps of the detected peaks\n",
    "peak_timestamps\n"
   ]
  }
 ],
 "metadata": {
  "kernelspec": {
   "display_name": "base",
   "language": "python",
   "name": "python3"
  },
  "language_info": {
   "codemirror_mode": {
    "name": "ipython",
    "version": 3
   },
   "file_extension": ".py",
   "mimetype": "text/x-python",
   "name": "python",
   "nbconvert_exporter": "python",
   "pygments_lexer": "ipython3",
   "version": "3.1.undefined"
  }
 },
 "nbformat": 4,
 "nbformat_minor": 2
}
