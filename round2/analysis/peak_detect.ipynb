{
 "cells": [
  {
   "cell_type": "code",
   "execution_count": 1,
   "metadata": {},
   "outputs": [],
   "source": [
    "import pandas as pd\n",
    "\n",
    "\n"
   ]
  },
  {
   "cell_type": "code",
   "execution_count": 2,
   "metadata": {},
   "outputs": [
    {
     "name": "stdout",
     "output_type": "stream",
     "text": [
      "[185600.0, 535500.0, 905700.0]\n"
     ]
    }
   ],
   "source": [
    "# Load the dataset\n",
    "df = pd.read_csv('../past_data/prices_round_2_day_-1.csv', delimiter=';')\n",
    "\n",
    "from collections import deque\n",
    "\n",
    "# Initialize a deque to keep track of the last 3 humidity values\n",
    "recent_humidities = deque(maxlen=3)\n",
    "peak_timestamps = []\n",
    "\n",
    "# Iterate over the humidity column\n",
    "for index, row in df.iterrows():\n",
    "    humidity = row['HUMIDITY']\n",
    "    # Append the current humidity to the recent values\n",
    "    recent_humidities.append(humidity)\n",
    "    # Check if the deque is full and if the middle value is greater than the two adjacent values\n",
    "    if len(recent_humidities) == 3 and recent_humidities[1] > recent_humidities[0] and recent_humidities[1] > recent_humidities[2]:\n",
    "        peak_timestamps.append(row['timestamp'])  # Replace 'timestamp' with the actual column name for timestamps\n",
    "\n",
    "# Print the detected peak timestamps\n",
    "print(peak_timestamps)\n"
   ]
  }
 ],
 "metadata": {
  "kernelspec": {
   "display_name": "base",
   "language": "python",
   "name": "python3"
  },
  "language_info": {
   "codemirror_mode": {
    "name": "ipython",
    "version": 3
   },
   "file_extension": ".py",
   "mimetype": "text/x-python",
   "name": "python",
   "nbconvert_exporter": "python",
   "pygments_lexer": "ipython3",
   "version": "3.11.7"
  }
 },
 "nbformat": 4,
 "nbformat_minor": 2
}
