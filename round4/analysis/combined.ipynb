{
 "cells": [
  {
   "cell_type": "code",
   "execution_count": 1,
   "metadata": {},
   "outputs": [],
   "source": [
    "import re\n",
    "import json\n",
    "import pandas as pd\n",
    "import io\n",
    "import csv\n",
    "from collections import defaultdict\n",
    "import matplotlib.pyplot as plt\n",
    "import numpy as np"
   ]
  },
  {
   "cell_type": "code",
   "execution_count": 9,
   "metadata": {},
   "outputs": [],
   "source": [
    "# Load the CSV files for all three days\n",
    "file_path_day_1 = \"../past_data/prices_round_4_day_1.csv\"\n",
    "file_path_day_2 = \"../past_data/prices_round_4_day_2.csv\"\n",
    "file_path_day_3 = \"../past_data/prices_round_4_day_3.csv\"\n",
    "\n",
    "data_day_1 = pd.read_csv(file_path_day_1, delimiter=';')\n",
    "data_day_2 = pd.read_csv(file_path_day_2, delimiter=';')\n",
    "data_day_3 = pd.read_csv(file_path_day_3, delimiter=';')\n",
    "\n",
    "# Combine the three DataFrames into one\n",
    "combined_data = pd.concat([data_day_1, data_day_2, data_day_3], ignore_index=True)\n",
    "\n",
    "# Save the combined DataFrame to a new CSV file\n",
    "combined_file_path = \"../past_data/combined_prices.csv\"\n",
    "combined_data.to_csv(combined_file_path, index=False)\n",
    "\n",
    "\n"
   ]
  },
  {
   "cell_type": "code",
   "execution_count": 35,
   "metadata": {},
   "outputs": [
    {
     "data": {
      "text/html": [
       "<div>\n",
       "<style scoped>\n",
       "    .dataframe tbody tr th:only-of-type {\n",
       "        vertical-align: middle;\n",
       "    }\n",
       "\n",
       "    .dataframe tbody tr th {\n",
       "        vertical-align: top;\n",
       "    }\n",
       "\n",
       "    .dataframe thead th {\n",
       "        text-align: right;\n",
       "    }\n",
       "</style>\n",
       "<table border=\"1\" class=\"dataframe\">\n",
       "  <thead>\n",
       "    <tr style=\"text-align: right;\">\n",
       "      <th></th>\n",
       "      <th>COCONUT</th>\n",
       "      <th>COCONUT_COUPON</th>\n",
       "    </tr>\n",
       "  </thead>\n",
       "  <tbody>\n",
       "    <tr>\n",
       "      <th>0</th>\n",
       "      <td>10000.0</td>\n",
       "      <td>637.5</td>\n",
       "    </tr>\n",
       "    <tr>\n",
       "      <th>1</th>\n",
       "      <td>9999.5</td>\n",
       "      <td>637.5</td>\n",
       "    </tr>\n",
       "    <tr>\n",
       "      <th>2</th>\n",
       "      <td>9998.5</td>\n",
       "      <td>637.5</td>\n",
       "    </tr>\n",
       "    <tr>\n",
       "      <th>3</th>\n",
       "      <td>9999.5</td>\n",
       "      <td>638.5</td>\n",
       "    </tr>\n",
       "    <tr>\n",
       "      <th>4</th>\n",
       "      <td>9998.5</td>\n",
       "      <td>637.5</td>\n",
       "    </tr>\n",
       "  </tbody>\n",
       "</table>\n",
       "</div>"
      ],
      "text/plain": [
       "   COCONUT  COCONUT_COUPON\n",
       "0  10000.0           637.5\n",
       "1   9999.5           637.5\n",
       "2   9998.5           637.5\n",
       "3   9999.5           638.5\n",
       "4   9998.5           637.5"
      ]
     },
     "execution_count": 35,
     "metadata": {},
     "output_type": "execute_result"
    }
   ],
   "source": [
    "filename = \"../past_data/combined_prices.csv\"\n",
    "data = pd.read_csv(filename)\n",
    "\n",
    "coconut_mid_price = data[data['product'] == \"COCONUT\"]['mid_price']\n",
    "coconut_price_df = pd.DataFrame({'COCONUT': coconut_mid_price}).reset_index(drop=True)\n",
    "coupon_mid_price = data[data['product'] == \"COCONUT_COUPON\"]['mid_price']\n",
    "coupon_price_df = pd.DataFrame({'COCONUT_COUPON': coupon_mid_price}).reset_index(drop=True)\n",
    "\n",
    "combined_coconut_coupon_df = pd.concat([coconut_price_df, coupon_price_df], axis=1)\n",
    "combined_coconut_coupon_df.head()\n",
    "\n"
   ]
  },
  {
   "cell_type": "code",
   "execution_count": 36,
   "metadata": {},
   "outputs": [],
   "source": [
    "new_file_path = \"../past_data/combined_coconut_coupon_prices.csv\"\n",
    "combined_coconut_coupon_df.to_csv(new_file_path, index=False)"
   ]
  },
  {
   "cell_type": "code",
   "execution_count": null,
   "metadata": {},
   "outputs": [],
   "source": []
  }
 ],
 "metadata": {
  "kernelspec": {
   "display_name": "base",
   "language": "python",
   "name": "python3"
  },
  "language_info": {
   "codemirror_mode": {
    "name": "ipython",
    "version": 3
   },
   "file_extension": ".py",
   "mimetype": "text/x-python",
   "name": "python",
   "nbconvert_exporter": "python",
   "pygments_lexer": "ipython3",
   "version": "3.11.7"
  }
 },
 "nbformat": 4,
 "nbformat_minor": 2
}
