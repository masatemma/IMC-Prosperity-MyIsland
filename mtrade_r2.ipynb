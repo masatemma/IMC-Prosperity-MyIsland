{
 "cells": [
  {
   "cell_type": "code",
   "execution_count": 1,
   "metadata": {},
   "outputs": [],
   "source": [
    "from typing import List, Tuple, Dict, Union\n",
    "import numpy as np"
   ]
  },
  {
   "cell_type": "code",
   "execution_count": 7,
   "metadata": {},
   "outputs": [],
   "source": [
    "rates = {\n",
    "    'p':  {'p':1,    'w': 0.48, 's': 1.52, 'sh': 0.71},\n",
    "    'w':  {'p':2.05, 'w': 1,    's': 3.26, 'sh': 1.56},\n",
    "    's':  {'p':0.64, 'w': 0.3,  's': 1,    'sh': 0.46},\n",
    "    'sh': {'p':1.41, 'w': 0.61, 's': 2.08, 'sh': 1   },\n",
    "}\n",
    "\n",
    "product_list = [product for product in rates.keys()]\n",
    "\n",
    "def traverse(path: List[Union[None, Tuple[str, str]]]) -> List[List[Tuple[str, str]]]:\n",
    "    start = 'sh' if len(path) == 0 else path[-1][-1]\n",
    "\n",
    "    if len(path) == 4:\n",
    "        path.append((path[-1][-1], 'sh'))\n",
    "        return [path]\n",
    "    else:\n",
    "        path_collection = []\n",
    "        for product in product_list:\n",
    "            path_next = [element for element in path] + [(start, product)]\n",
    "            path_collection += traverse(path_next)\n",
    "        return path_collection\n",
    "\n",
    "path_list = traverse([])"
   ]
  },
  {
   "cell_type": "code",
   "execution_count": 8,
   "metadata": {},
   "outputs": [
    {
     "data": {
      "text/plain": [
       "[('sh', 'p'), ('p', 'w'), ('w', 'sh'), ('sh', 'p'), ('p', 'sh')]"
      ]
     },
     "execution_count": 8,
     "metadata": {},
     "output_type": "execute_result"
    }
   ],
   "source": [
    "profit_list = []\n",
    "for path in path_list:\n",
    "    path_rate = 1\n",
    "    for transition in path:\n",
    "        start = transition[0]\n",
    "        to = transition[1]\n",
    "        path_rate *= rates[start][to]\n",
    "    profit_list.append(path_rate)\n",
    "\n",
    "max_idx = np.argsort(profit_list)[-1]\n",
    "ascending_rank = np.sort(profit_list)\n",
    "path_list[max_idx]"
   ]
  },
  {
   "cell_type": "code",
   "execution_count": 9,
   "metadata": {},
   "outputs": [
    {
     "data": {
      "text/plain": [
       "array([1.055808  , 1.055808  , 1.055808  , 1.05696939, 1.05696939])"
      ]
     },
     "execution_count": 9,
     "metadata": {},
     "output_type": "execute_result"
    }
   ],
   "source": [
    "ascending_rank[-5:]"
   ]
  },
  {
   "cell_type": "code",
   "execution_count": null,
   "metadata": {},
   "outputs": [],
   "source": []
  },
  {
   "cell_type": "code",
   "execution_count": 11,
   "metadata": {},
   "outputs": [
    {
     "data": {
      "text/plain": [
       "[('sh', 'sh'), ('sh', 'p'), ('p', 'w'), ('w', 'sh')]"
      ]
     },
     "execution_count": 11,
     "metadata": {},
     "output_type": "execute_result"
    }
   ],
   "source": [
    "rates = {\n",
    "    'p':  {'p':1,    'w': 0.48, 's': 1.52, 'sh': 0.71},\n",
    "    'w':  {'p':2.05, 'w': 1,    's': 3.26, 'sh': 1.56},\n",
    "    's':  {'p':0.64, 'w': 0.3,  's': 1,    'sh': 0.46},\n",
    "    'sh': {'p':1.41, 'w': 0.61, 's': 2.08, 'sh': 1   },\n",
    "}\n",
    "\n",
    "product_list = [product for product in rates.keys()]\n",
    "\n",
    "def traverse(path: List[Union[None, Tuple[str, str]]]) -> List[List[Tuple[str, str]]]:\n",
    "    start = 'sh' if len(path) == 0 else path[-1][-1]\n",
    "\n",
    "    if len(path) == 3:\n",
    "        path.append((path[-1][-1], 'sh'))\n",
    "        return [path]\n",
    "    else:\n",
    "        path_collection = []\n",
    "        for product in product_list:\n",
    "            path_next = [element for element in path] + [(start, product)]\n",
    "            path_collection += traverse(path_next)\n",
    "        return path_collection\n",
    "\n",
    "path_list = traverse([])\n",
    "\n",
    "profit_list = []\n",
    "for path in path_list:\n",
    "    path_rate = 1\n",
    "    for transition in path:\n",
    "        start = transition[0]\n",
    "        to = transition[1]\n",
    "        path_rate *= rates[start][to]\n",
    "    profit_list.append(path_rate)\n",
    "\n",
    "max_idx = np.argsort(profit_list)[-1]\n",
    "ascending_rank = np.sort(profit_list)\n",
    "path_list[max_idx]"
   ]
  },
  {
   "cell_type": "code",
   "execution_count": 12,
   "metadata": {},
   "outputs": [
    {
     "data": {
      "text/plain": [
       "array([1.01492928, 1.055808  , 1.055808  , 1.055808  , 1.055808  ])"
      ]
     },
     "execution_count": 12,
     "metadata": {},
     "output_type": "execute_result"
    }
   ],
   "source": [
    "ascending_rank[-5:]"
   ]
  },
  {
   "cell_type": "code",
   "execution_count": null,
   "metadata": {},
   "outputs": [],
   "source": []
  },
  {
   "cell_type": "code",
   "execution_count": 13,
   "metadata": {},
   "outputs": [
    {
     "data": {
      "text/plain": [
       "[('sh', 'p'), ('p', 'w'), ('w', 'sh')]"
      ]
     },
     "execution_count": 13,
     "metadata": {},
     "output_type": "execute_result"
    }
   ],
   "source": [
    "rates = {\n",
    "    'p':  {'p':1,    'w': 0.48, 's': 1.52, 'sh': 0.71},\n",
    "    'w':  {'p':2.05, 'w': 1,    's': 3.26, 'sh': 1.56},\n",
    "    's':  {'p':0.64, 'w': 0.3,  's': 1,    'sh': 0.46},\n",
    "    'sh': {'p':1.41, 'w': 0.61, 's': 2.08, 'sh': 1   },\n",
    "}\n",
    "\n",
    "product_list = [product for product in rates.keys()]\n",
    "\n",
    "def traverse(path: List[Union[None, Tuple[str, str]]]) -> List[List[Tuple[str, str]]]:\n",
    "    start = 'sh' if len(path) == 0 else path[-1][-1]\n",
    "\n",
    "    if len(path) == 2:\n",
    "        path.append((path[-1][-1], 'sh'))\n",
    "        return [path]\n",
    "    else:\n",
    "        path_collection = []\n",
    "        for product in product_list:\n",
    "            path_next = [element for element in path] + [(start, product)]\n",
    "            path_collection += traverse(path_next)\n",
    "        return path_collection\n",
    "\n",
    "path_list = traverse([])\n",
    "\n",
    "profit_list = []\n",
    "for path in path_list:\n",
    "    path_rate = 1\n",
    "    for transition in path:\n",
    "        start = transition[0]\n",
    "        to = transition[1]\n",
    "        path_rate *= rates[start][to]\n",
    "    profit_list.append(path_rate)\n",
    "\n",
    "max_idx = np.argsort(profit_list)[-1]\n",
    "ascending_rank = np.sort(profit_list)\n",
    "path_list[max_idx]"
   ]
  },
  {
   "cell_type": "code",
   "execution_count": 14,
   "metadata": {},
   "outputs": [
    {
     "data": {
      "text/plain": [
       "array([1.      , 1.0011  , 1.0011  , 1.0011  , 1.055808])"
      ]
     },
     "execution_count": 14,
     "metadata": {},
     "output_type": "execute_result"
    }
   ],
   "source": [
    "ascending_rank[-5:]"
   ]
  },
  {
   "cell_type": "code",
   "execution_count": null,
   "metadata": {},
   "outputs": [],
   "source": []
  },
  {
   "cell_type": "code",
   "execution_count": 15,
   "metadata": {},
   "outputs": [
    {
     "data": {
      "text/plain": [
       "[('sh', 'p'), ('p', 'sh')]"
      ]
     },
     "execution_count": 15,
     "metadata": {},
     "output_type": "execute_result"
    }
   ],
   "source": [
    "rates = {\n",
    "    'p':  {'p':1,    'w': 0.48, 's': 1.52, 'sh': 0.71},\n",
    "    'w':  {'p':2.05, 'w': 1,    's': 3.26, 'sh': 1.56},\n",
    "    's':  {'p':0.64, 'w': 0.3,  's': 1,    'sh': 0.46},\n",
    "    'sh': {'p':1.41, 'w': 0.61, 's': 2.08, 'sh': 1   },\n",
    "}\n",
    "\n",
    "product_list = [product for product in rates.keys()]\n",
    "\n",
    "def traverse(path: List[Union[None, Tuple[str, str]]]) -> List[List[Tuple[str, str]]]:\n",
    "    start = 'sh' if len(path) == 0 else path[-1][-1]\n",
    "\n",
    "    if len(path) == 1:\n",
    "        path.append((path[-1][-1], 'sh'))\n",
    "        return [path]\n",
    "    else:\n",
    "        path_collection = []\n",
    "        for product in product_list:\n",
    "            path_next = [element for element in path] + [(start, product)]\n",
    "            path_collection += traverse(path_next)\n",
    "        return path_collection\n",
    "\n",
    "path_list = traverse([])\n",
    "\n",
    "profit_list = []\n",
    "for path in path_list:\n",
    "    path_rate = 1\n",
    "    for transition in path:\n",
    "        start = transition[0]\n",
    "        to = transition[1]\n",
    "        path_rate *= rates[start][to]\n",
    "    profit_list.append(path_rate)\n",
    "\n",
    "max_idx = np.argsort(profit_list)[-1]\n",
    "ascending_rank = np.sort(profit_list)\n",
    "path_list[max_idx]"
   ]
  },
  {
   "cell_type": "code",
   "execution_count": 16,
   "metadata": {},
   "outputs": [
    {
     "data": {
      "text/plain": [
       "array([0.9516, 0.9568, 1.    , 1.0011])"
      ]
     },
     "execution_count": 16,
     "metadata": {},
     "output_type": "execute_result"
    }
   ],
   "source": [
    "ascending_rank[-5:]"
   ]
  },
  {
   "cell_type": "code",
   "execution_count": null,
   "metadata": {},
   "outputs": [],
   "source": []
  }
 ],
 "metadata": {
  "kernelspec": {
   "display_name": "Python 3",
   "language": "python",
   "name": "python3"
  },
  "language_info": {
   "codemirror_mode": {
    "name": "ipython",
    "version": 3
   },
   "file_extension": ".py",
   "mimetype": "text/x-python",
   "name": "python",
   "nbconvert_exporter": "python",
   "pygments_lexer": "ipython3",
   "version": "3.10.9"
  }
 },
 "nbformat": 4,
 "nbformat_minor": 2
}
